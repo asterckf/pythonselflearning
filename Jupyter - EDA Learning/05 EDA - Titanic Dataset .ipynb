{
 "cells": [
  {
   "cell_type": "code",
   "execution_count": null,
   "metadata": {
    "collapsed": true
   },
   "outputs": [],
   "source": [
    "https://github.com/mjamilmoughal/DataSciencePractices/blob/master/Exploratory%20Data%20Analysis%20with%20Titanic%20Dataset.ipynb "
   ]
  },
  {
   "cell_type": "code",
   "execution_count": 28,
   "metadata": {},
   "outputs": [],
   "source": [
    "import numpy as np \n",
    "import pandas as pd \n",
    "import matplotlib.pyplot as plt \n",
    "import seaborn as sns"
   ]
  },
  {
   "cell_type": "code",
   "execution_count": 79,
   "metadata": {},
   "outputs": [
    {
     "data": {
      "text/html": [
       "<div>\n",
       "<style>\n",
       "    .dataframe thead tr:only-child th {\n",
       "        text-align: right;\n",
       "    }\n",
       "\n",
       "    .dataframe thead th {\n",
       "        text-align: left;\n",
       "    }\n",
       "\n",
       "    .dataframe tbody tr th {\n",
       "        vertical-align: top;\n",
       "    }\n",
       "</style>\n",
       "<table border=\"1\" class=\"dataframe\">\n",
       "  <thead>\n",
       "    <tr style=\"text-align: right;\">\n",
       "      <th></th>\n",
       "      <th>PassengerId</th>\n",
       "      <th>Survived</th>\n",
       "      <th>Pclass</th>\n",
       "      <th>Name</th>\n",
       "      <th>Sex</th>\n",
       "      <th>Age</th>\n",
       "      <th>SibSp</th>\n",
       "      <th>Parch</th>\n",
       "      <th>Ticket</th>\n",
       "      <th>Fare</th>\n",
       "      <th>Cabin</th>\n",
       "      <th>Embarked</th>\n",
       "    </tr>\n",
       "  </thead>\n",
       "  <tbody>\n",
       "    <tr>\n",
       "      <th>0</th>\n",
       "      <td>1</td>\n",
       "      <td>0</td>\n",
       "      <td>3</td>\n",
       "      <td>Braund, Mr. Owen Harris</td>\n",
       "      <td>male</td>\n",
       "      <td>22.0</td>\n",
       "      <td>1</td>\n",
       "      <td>0</td>\n",
       "      <td>A/5 21171</td>\n",
       "      <td>7.2500</td>\n",
       "      <td>NaN</td>\n",
       "      <td>S</td>\n",
       "    </tr>\n",
       "    <tr>\n",
       "      <th>1</th>\n",
       "      <td>2</td>\n",
       "      <td>1</td>\n",
       "      <td>1</td>\n",
       "      <td>Cumings, Mrs. John Bradley (Florence Briggs Th...</td>\n",
       "      <td>female</td>\n",
       "      <td>38.0</td>\n",
       "      <td>1</td>\n",
       "      <td>0</td>\n",
       "      <td>PC 17599</td>\n",
       "      <td>71.2833</td>\n",
       "      <td>C85</td>\n",
       "      <td>C</td>\n",
       "    </tr>\n",
       "    <tr>\n",
       "      <th>2</th>\n",
       "      <td>3</td>\n",
       "      <td>1</td>\n",
       "      <td>3</td>\n",
       "      <td>Heikkinen, Miss. Laina</td>\n",
       "      <td>female</td>\n",
       "      <td>26.0</td>\n",
       "      <td>0</td>\n",
       "      <td>0</td>\n",
       "      <td>STON/O2. 3101282</td>\n",
       "      <td>7.9250</td>\n",
       "      <td>NaN</td>\n",
       "      <td>S</td>\n",
       "    </tr>\n",
       "    <tr>\n",
       "      <th>3</th>\n",
       "      <td>4</td>\n",
       "      <td>1</td>\n",
       "      <td>1</td>\n",
       "      <td>Futrelle, Mrs. Jacques Heath (Lily May Peel)</td>\n",
       "      <td>female</td>\n",
       "      <td>35.0</td>\n",
       "      <td>1</td>\n",
       "      <td>0</td>\n",
       "      <td>113803</td>\n",
       "      <td>53.1000</td>\n",
       "      <td>C123</td>\n",
       "      <td>S</td>\n",
       "    </tr>\n",
       "    <tr>\n",
       "      <th>4</th>\n",
       "      <td>5</td>\n",
       "      <td>0</td>\n",
       "      <td>3</td>\n",
       "      <td>Allen, Mr. William Henry</td>\n",
       "      <td>male</td>\n",
       "      <td>35.0</td>\n",
       "      <td>0</td>\n",
       "      <td>0</td>\n",
       "      <td>373450</td>\n",
       "      <td>8.0500</td>\n",
       "      <td>NaN</td>\n",
       "      <td>S</td>\n",
       "    </tr>\n",
       "  </tbody>\n",
       "</table>\n",
       "</div>"
      ],
      "text/plain": [
       "   PassengerId  Survived  Pclass  \\\n",
       "0            1         0       3   \n",
       "1            2         1       1   \n",
       "2            3         1       3   \n",
       "3            4         1       1   \n",
       "4            5         0       3   \n",
       "\n",
       "                                                Name     Sex   Age  SibSp  \\\n",
       "0                            Braund, Mr. Owen Harris    male  22.0      1   \n",
       "1  Cumings, Mrs. John Bradley (Florence Briggs Th...  female  38.0      1   \n",
       "2                             Heikkinen, Miss. Laina  female  26.0      0   \n",
       "3       Futrelle, Mrs. Jacques Heath (Lily May Peel)  female  35.0      1   \n",
       "4                           Allen, Mr. William Henry    male  35.0      0   \n",
       "\n",
       "   Parch            Ticket     Fare Cabin Embarked  \n",
       "0      0         A/5 21171   7.2500   NaN        S  \n",
       "1      0          PC 17599  71.2833   C85        C  \n",
       "2      0  STON/O2. 3101282   7.9250   NaN        S  \n",
       "3      0            113803  53.1000  C123        S  \n",
       "4      0            373450   8.0500   NaN        S  "
      ]
     },
     "execution_count": 79,
     "metadata": {},
     "output_type": "execute_result"
    }
   ],
   "source": [
    "titanic_traindata = pd.read_csv('D:/Users/452374/titanic_train.csv')\n",
    "titanic_traindata.head()"
   ]
  },
  {
   "cell_type": "code",
   "execution_count": 80,
   "metadata": {},
   "outputs": [
    {
     "name": "stdout",
     "output_type": "stream",
     "text": [
      "<class 'pandas.core.frame.DataFrame'>\n",
      "RangeIndex: 891 entries, 0 to 890\n",
      "Data columns (total 12 columns):\n",
      "PassengerId    891 non-null int64\n",
      "Survived       891 non-null int64\n",
      "Pclass         891 non-null int64\n",
      "Name           891 non-null object\n",
      "Sex            891 non-null object\n",
      "Age            714 non-null float64\n",
      "SibSp          891 non-null int64\n",
      "Parch          891 non-null int64\n",
      "Ticket         891 non-null object\n",
      "Fare           891 non-null float64\n",
      "Cabin          204 non-null object\n",
      "Embarked       889 non-null object\n",
      "dtypes: float64(2), int64(5), object(5)\n",
      "memory usage: 83.6+ KB\n"
     ]
    }
   ],
   "source": [
    "titanic_traindata.info()"
   ]
  },
  {
   "cell_type": "code",
   "execution_count": 81,
   "metadata": {},
   "outputs": [
    {
     "data": {
      "text/plain": [
       "PassengerId      0\n",
       "Survived         0\n",
       "Pclass           0\n",
       "Name             0\n",
       "Sex              0\n",
       "Age            177\n",
       "SibSp            0\n",
       "Parch            0\n",
       "Ticket           0\n",
       "Fare             0\n",
       "Cabin          687\n",
       "Embarked         2\n",
       "dtype: int64"
      ]
     },
     "execution_count": 81,
     "metadata": {},
     "output_type": "execute_result"
    }
   ],
   "source": [
    "titanic_traindata.isnull().sum()"
   ]
  },
  {
   "cell_type": "code",
   "execution_count": 82,
   "metadata": {},
   "outputs": [
    {
     "data": {
      "text/html": [
       "<div>\n",
       "<style>\n",
       "    .dataframe thead tr:only-child th {\n",
       "        text-align: right;\n",
       "    }\n",
       "\n",
       "    .dataframe thead th {\n",
       "        text-align: left;\n",
       "    }\n",
       "\n",
       "    .dataframe tbody tr th {\n",
       "        vertical-align: top;\n",
       "    }\n",
       "</style>\n",
       "<table border=\"1\" class=\"dataframe\">\n",
       "  <thead>\n",
       "    <tr style=\"text-align: right;\">\n",
       "      <th></th>\n",
       "      <th>Survived</th>\n",
       "      <th>Pclass</th>\n",
       "      <th>Age</th>\n",
       "      <th>SibSp</th>\n",
       "      <th>Parch</th>\n",
       "      <th>Fare</th>\n",
       "    </tr>\n",
       "  </thead>\n",
       "  <tbody>\n",
       "    <tr>\n",
       "      <th>count</th>\n",
       "      <td>891.000000</td>\n",
       "      <td>891.000000</td>\n",
       "      <td>714.000000</td>\n",
       "      <td>891.000000</td>\n",
       "      <td>891.000000</td>\n",
       "      <td>891.000000</td>\n",
       "    </tr>\n",
       "    <tr>\n",
       "      <th>mean</th>\n",
       "      <td>0.383838</td>\n",
       "      <td>2.308642</td>\n",
       "      <td>29.699118</td>\n",
       "      <td>0.523008</td>\n",
       "      <td>0.381594</td>\n",
       "      <td>32.204208</td>\n",
       "    </tr>\n",
       "    <tr>\n",
       "      <th>std</th>\n",
       "      <td>0.486592</td>\n",
       "      <td>0.836071</td>\n",
       "      <td>14.526497</td>\n",
       "      <td>1.102743</td>\n",
       "      <td>0.806057</td>\n",
       "      <td>49.693429</td>\n",
       "    </tr>\n",
       "    <tr>\n",
       "      <th>min</th>\n",
       "      <td>0.000000</td>\n",
       "      <td>1.000000</td>\n",
       "      <td>0.420000</td>\n",
       "      <td>0.000000</td>\n",
       "      <td>0.000000</td>\n",
       "      <td>0.000000</td>\n",
       "    </tr>\n",
       "    <tr>\n",
       "      <th>25%</th>\n",
       "      <td>0.000000</td>\n",
       "      <td>2.000000</td>\n",
       "      <td>20.125000</td>\n",
       "      <td>0.000000</td>\n",
       "      <td>0.000000</td>\n",
       "      <td>7.910400</td>\n",
       "    </tr>\n",
       "    <tr>\n",
       "      <th>50%</th>\n",
       "      <td>0.000000</td>\n",
       "      <td>3.000000</td>\n",
       "      <td>28.000000</td>\n",
       "      <td>0.000000</td>\n",
       "      <td>0.000000</td>\n",
       "      <td>14.454200</td>\n",
       "    </tr>\n",
       "    <tr>\n",
       "      <th>75%</th>\n",
       "      <td>1.000000</td>\n",
       "      <td>3.000000</td>\n",
       "      <td>38.000000</td>\n",
       "      <td>1.000000</td>\n",
       "      <td>0.000000</td>\n",
       "      <td>31.000000</td>\n",
       "    </tr>\n",
       "    <tr>\n",
       "      <th>max</th>\n",
       "      <td>1.000000</td>\n",
       "      <td>3.000000</td>\n",
       "      <td>80.000000</td>\n",
       "      <td>8.000000</td>\n",
       "      <td>6.000000</td>\n",
       "      <td>512.329200</td>\n",
       "    </tr>\n",
       "  </tbody>\n",
       "</table>\n",
       "</div>"
      ],
      "text/plain": [
       "         Survived      Pclass         Age       SibSp       Parch        Fare\n",
       "count  891.000000  891.000000  714.000000  891.000000  891.000000  891.000000\n",
       "mean     0.383838    2.308642   29.699118    0.523008    0.381594   32.204208\n",
       "std      0.486592    0.836071   14.526497    1.102743    0.806057   49.693429\n",
       "min      0.000000    1.000000    0.420000    0.000000    0.000000    0.000000\n",
       "25%      0.000000    2.000000   20.125000    0.000000    0.000000    7.910400\n",
       "50%      0.000000    3.000000   28.000000    0.000000    0.000000   14.454200\n",
       "75%      1.000000    3.000000   38.000000    1.000000    0.000000   31.000000\n",
       "max      1.000000    3.000000   80.000000    8.000000    6.000000  512.329200"
      ]
     },
     "execution_count": 82,
     "metadata": {},
     "output_type": "execute_result"
    }
   ],
   "source": [
    "del titanic_traindata['PassengerId']\n",
    "titanic_traindata.describe()"
   ]
  },
  {
   "cell_type": "code",
   "execution_count": 83,
   "metadata": {},
   "outputs": [
    {
     "data": {
      "text/html": [
       "<div>\n",
       "<style>\n",
       "    .dataframe thead tr:only-child th {\n",
       "        text-align: right;\n",
       "    }\n",
       "\n",
       "    .dataframe thead th {\n",
       "        text-align: left;\n",
       "    }\n",
       "\n",
       "    .dataframe tbody tr th {\n",
       "        vertical-align: top;\n",
       "    }\n",
       "</style>\n",
       "<table border=\"1\" class=\"dataframe\">\n",
       "  <thead>\n",
       "    <tr style=\"text-align: right;\">\n",
       "      <th></th>\n",
       "      <th>Name</th>\n",
       "      <th>Sex</th>\n",
       "      <th>Ticket</th>\n",
       "      <th>Cabin</th>\n",
       "      <th>Embarked</th>\n",
       "    </tr>\n",
       "  </thead>\n",
       "  <tbody>\n",
       "    <tr>\n",
       "      <th>count</th>\n",
       "      <td>891</td>\n",
       "      <td>891</td>\n",
       "      <td>891</td>\n",
       "      <td>204</td>\n",
       "      <td>889</td>\n",
       "    </tr>\n",
       "    <tr>\n",
       "      <th>unique</th>\n",
       "      <td>891</td>\n",
       "      <td>2</td>\n",
       "      <td>681</td>\n",
       "      <td>147</td>\n",
       "      <td>3</td>\n",
       "    </tr>\n",
       "    <tr>\n",
       "      <th>top</th>\n",
       "      <td>Stanley, Mr. Edward Roland</td>\n",
       "      <td>male</td>\n",
       "      <td>1601</td>\n",
       "      <td>G6</td>\n",
       "      <td>S</td>\n",
       "    </tr>\n",
       "    <tr>\n",
       "      <th>freq</th>\n",
       "      <td>1</td>\n",
       "      <td>577</td>\n",
       "      <td>7</td>\n",
       "      <td>4</td>\n",
       "      <td>644</td>\n",
       "    </tr>\n",
       "  </tbody>\n",
       "</table>\n",
       "</div>"
      ],
      "text/plain": [
       "                              Name   Sex Ticket Cabin Embarked\n",
       "count                          891   891    891   204      889\n",
       "unique                         891     2    681   147        3\n",
       "top     Stanley, Mr. Edward Roland  male   1601    G6        S\n",
       "freq                             1   577      7     4      644"
      ]
     },
     "execution_count": 83,
     "metadata": {},
     "output_type": "execute_result"
    }
   ],
   "source": [
    "titanic_traindata.describe(include=['O'])"
   ]
  },
  {
   "cell_type": "markdown",
   "metadata": {},
   "source": [
    "#### Explore features "
   ]
  },
  {
   "cell_type": "code",
   "execution_count": 84,
   "metadata": {},
   "outputs": [
    {
     "data": {
      "image/png": "[encoded data removed]",
      "text/plain": [
       "<matplotlib.figure.Figure at 0xda66080>"
      ]
     },
     "metadata": {},
     "output_type": "display_data"
    }
   ],
   "source": [
    "sns.countplot('Survived',data=titanic_train)\n",
    "plt.show()"
   ]
  },
  {
   "cell_type": "code",
   "execution_count": 85,
   "metadata": {},
   "outputs": [
    {
     "data": {
      "text/plain": [
       "Sex     Survived\n",
       "female  0            81\n",
       "        1           233\n",
       "male    0           468\n",
       "        1           109\n",
       "Name: Survived, dtype: int64"
      ]
     },
     "execution_count": 85,
     "metadata": {},
     "output_type": "execute_result"
    }
   ],
   "source": [
    "titanic_train.groupby(['Sex','Survived'])['Survived'].count()"
   ]
  },
  {
   "cell_type": "code",
   "execution_count": 86,
   "metadata": {},
   "outputs": [
    {
     "data": {
      "image/png": "[encoded data removed]",
      "text/plain": [
       "<matplotlib.figure.Figure at 0xe47cef0>"
      ]
     },
     "metadata": {},
     "output_type": "display_data"
    }
   ],
   "source": [
    "titanic_traindata[['Sex','Survived']].groupby(['Sex']).mean().plot.bar()\n",
    "sns.countplot('Sex',hue='Survived',data=titanic_traindata)\n",
    "plt.show()"
   ]
  },
  {
   "cell_type": "code",
   "execution_count": 87,
   "metadata": {},
   "outputs": [
    {
     "data": {
      "image/png": "[encoded data removed]",
      "text/plain": [
       "<matplotlib.figure.Figure at 0xdc8a390>"
      ]
     },
     "metadata": {},
     "output_type": "display_data"
    }
   ],
   "source": [
    "sns.countplot('Pclass',hue='Survived',data=titanic_traindata)\n",
    "plt.title('Pclass: Survived vs Dead')\n",
    "plt.show()"
   ]
  },
  {
   "cell_type": "code",
   "execution_count": 88,
   "metadata": {},
   "outputs": [
    {
     "data": {
      "text/html": [
       "<style  type=\"text/css\" >\n",
       "    #T_ae2177da_5756_11e8_8ec1_484d7efb0e17row0_col0 {\n",
       "            background-color:  #ffff66;\n",
       "        }    #T_ae2177da_5756_11e8_8ec1_484d7efb0e17row0_col1 {\n",
       "            background-color:  #ffff66;\n",
       "        }    #T_ae2177da_5756_11e8_8ec1_484d7efb0e17row0_col2 {\n",
       "            background-color:  #f1f866;\n",
       "        }    #T_ae2177da_5756_11e8_8ec1_484d7efb0e17row0_col3 {\n",
       "            background-color:  #ffff66;\n",
       "        }    #T_ae2177da_5756_11e8_8ec1_484d7efb0e17row1_col0 {\n",
       "            background-color:  #96cb66;\n",
       "        }    #T_ae2177da_5756_11e8_8ec1_484d7efb0e17row1_col1 {\n",
       "            background-color:  #a3d166;\n",
       "        }    #T_ae2177da_5756_11e8_8ec1_484d7efb0e17row1_col2 {\n",
       "            background-color:  #f1f866;\n",
       "        }    #T_ae2177da_5756_11e8_8ec1_484d7efb0e17row1_col3 {\n",
       "            background-color:  #cfe766;\n",
       "        }    #T_ae2177da_5756_11e8_8ec1_484d7efb0e17row2_col0 {\n",
       "            background-color:  #a7d366;\n",
       "        }    #T_ae2177da_5756_11e8_8ec1_484d7efb0e17row2_col1 {\n",
       "            background-color:  #85c266;\n",
       "        }    #T_ae2177da_5756_11e8_8ec1_484d7efb0e17row2_col2 {\n",
       "            background-color:  #6eb666;\n",
       "        }    #T_ae2177da_5756_11e8_8ec1_484d7efb0e17row2_col3 {\n",
       "            background-color:  #85c266;\n",
       "        }    #T_ae2177da_5756_11e8_8ec1_484d7efb0e17row3_col0 {\n",
       "            background-color:  #cde666;\n",
       "        }    #T_ae2177da_5756_11e8_8ec1_484d7efb0e17row3_col1 {\n",
       "            background-color:  #f0f866;\n",
       "        }    #T_ae2177da_5756_11e8_8ec1_484d7efb0e17row3_col2 {\n",
       "            background-color:  #ffff66;\n",
       "        }    #T_ae2177da_5756_11e8_8ec1_484d7efb0e17row3_col3 {\n",
       "            background-color:  #f7fb66;\n",
       "        }    #T_ae2177da_5756_11e8_8ec1_484d7efb0e17row4_col0 {\n",
       "            background-color:  #008066;\n",
       "        }    #T_ae2177da_5756_11e8_8ec1_484d7efb0e17row4_col1 {\n",
       "            background-color:  #008066;\n",
       "        }    #T_ae2177da_5756_11e8_8ec1_484d7efb0e17row4_col2 {\n",
       "            background-color:  #008066;\n",
       "        }    #T_ae2177da_5756_11e8_8ec1_484d7efb0e17row4_col3 {\n",
       "            background-color:  #008066;\n",
       "        }</style>  \n",
       "<table id=\"T_ae2177da_5756_11e8_8ec1_484d7efb0e17\" > \n",
       "<thead>    <tr> \n",
       "        <th class=\"blank\" ></th> \n",
       "        <th class=\"index_name level0\" >Pclass</th> \n",
       "        <th class=\"col_heading level0 col0\" >1</th> \n",
       "        <th class=\"col_heading level0 col1\" >2</th> \n",
       "        <th class=\"col_heading level0 col2\" >3</th> \n",
       "        <th class=\"col_heading level0 col3\" >All</th> \n",
       "    </tr>    <tr> \n",
       "        <th class=\"index_name level0\" >Sex</th> \n",
       "        <th class=\"index_name level1\" >Survived</th> \n",
       "        <th class=\"blank\" ></th> \n",
       "        <th class=\"blank\" ></th> \n",
       "        <th class=\"blank\" ></th> \n",
       "        <th class=\"blank\" ></th> \n",
       "    </tr></thead> \n",
       "<tbody>    <tr> \n",
       "        <th id=\"T_ae2177da_5756_11e8_8ec1_484d7efb0e17level0_row0\" class=\"row_heading level0 row0\" rowspan=2>female</th> \n",
       "        <th id=\"T_ae2177da_5756_11e8_8ec1_484d7efb0e17level1_row0\" class=\"row_heading level1 row0\" >0</th> \n",
       "        <td id=\"T_ae2177da_5756_11e8_8ec1_484d7efb0e17row0_col0\" class=\"data row0 col0\" >3</td> \n",
       "        <td id=\"T_ae2177da_5756_11e8_8ec1_484d7efb0e17row0_col1\" class=\"data row0 col1\" >6</td> \n",
       "        <td id=\"T_ae2177da_5756_11e8_8ec1_484d7efb0e17row0_col2\" class=\"data row0 col2\" >72</td> \n",
       "        <td id=\"T_ae2177da_5756_11e8_8ec1_484d7efb0e17row0_col3\" class=\"data row0 col3\" >81</td> \n",
       "    </tr>    <tr> \n",
       "        <th id=\"T_ae2177da_5756_11e8_8ec1_484d7efb0e17level1_row1\" class=\"row_heading level1 row1\" >1</th> \n",
       "        <td id=\"T_ae2177da_5756_11e8_8ec1_484d7efb0e17row1_col0\" class=\"data row1 col0\" >91</td> \n",
       "        <td id=\"T_ae2177da_5756_11e8_8ec1_484d7efb0e17row1_col1\" class=\"data row1 col1\" >70</td> \n",
       "        <td id=\"T_ae2177da_5756_11e8_8ec1_484d7efb0e17row1_col2\" class=\"data row1 col2\" >72</td> \n",
       "        <td id=\"T_ae2177da_5756_11e8_8ec1_484d7efb0e17row1_col3\" class=\"data row1 col3\" >233</td> \n",
       "    </tr>    <tr> \n",
       "        <th id=\"T_ae2177da_5756_11e8_8ec1_484d7efb0e17level0_row2\" class=\"row_heading level0 row2\" rowspan=2>male</th> \n",
       "        <th id=\"T_ae2177da_5756_11e8_8ec1_484d7efb0e17level1_row2\" class=\"row_heading level1 row2\" >0</th> \n",
       "        <td id=\"T_ae2177da_5756_11e8_8ec1_484d7efb0e17row2_col0\" class=\"data row2 col0\" >77</td> \n",
       "        <td id=\"T_ae2177da_5756_11e8_8ec1_484d7efb0e17row2_col1\" class=\"data row2 col1\" >91</td> \n",
       "        <td id=\"T_ae2177da_5756_11e8_8ec1_484d7efb0e17row2_col2\" class=\"data row2 col2\" >300</td> \n",
       "        <td id=\"T_ae2177da_5756_11e8_8ec1_484d7efb0e17row2_col3\" class=\"data row2 col3\" >468</td> \n",
       "    </tr>    <tr> \n",
       "        <th id=\"T_ae2177da_5756_11e8_8ec1_484d7efb0e17level1_row3\" class=\"row_heading level1 row3\" >1</th> \n",
       "        <td id=\"T_ae2177da_5756_11e8_8ec1_484d7efb0e17row3_col0\" class=\"data row3 col0\" >45</td> \n",
       "        <td id=\"T_ae2177da_5756_11e8_8ec1_484d7efb0e17row3_col1\" class=\"data row3 col1\" >17</td> \n",
       "        <td id=\"T_ae2177da_5756_11e8_8ec1_484d7efb0e17row3_col2\" class=\"data row3 col2\" >47</td> \n",
       "        <td id=\"T_ae2177da_5756_11e8_8ec1_484d7efb0e17row3_col3\" class=\"data row3 col3\" >109</td> \n",
       "    </tr>    <tr> \n",
       "        <th id=\"T_ae2177da_5756_11e8_8ec1_484d7efb0e17level0_row4\" class=\"row_heading level0 row4\" >All</th> \n",
       "        <th id=\"T_ae2177da_5756_11e8_8ec1_484d7efb0e17level1_row4\" class=\"row_heading level1 row4\" ></th> \n",
       "        <td id=\"T_ae2177da_5756_11e8_8ec1_484d7efb0e17row4_col0\" class=\"data row4 col0\" >216</td> \n",
       "        <td id=\"T_ae2177da_5756_11e8_8ec1_484d7efb0e17row4_col1\" class=\"data row4 col1\" >184</td> \n",
       "        <td id=\"T_ae2177da_5756_11e8_8ec1_484d7efb0e17row4_col2\" class=\"data row4 col2\" >491</td> \n",
       "        <td id=\"T_ae2177da_5756_11e8_8ec1_484d7efb0e17row4_col3\" class=\"data row4 col3\" >891</td> \n",
       "    </tr></tbody> \n",
       "</table> "
      ],
      "text/plain": [
       "<pandas.io.formats.style.Styler at 0xdc1a470>"
      ]
     },
     "execution_count": 88,
     "metadata": {},
     "output_type": "execute_result"
    }
   ],
   "source": [
    "pd.crosstab([titanic_traindata.Sex,titanic_traindata.Survived],titanic_traindata.Pclass, margins=True).style.background_gradient(cmap='summer_r')"
   ]
  },
  {
   "cell_type": "code",
   "execution_count": 89,
   "metadata": {},
   "outputs": [
    {
     "data": {
      "image/png": "[encoded data removed]",
      "text/plain": [
       "<matplotlib.figure.Figure at 0xdc49b70>"
      ]
     },
     "metadata": {},
     "output_type": "display_data"
    }
   ],
   "source": [
    "sns.factorplot('Pclass','Survived', hue='Sex',data=titanic_traindata)\n",
    "plt.show()"
   ]
  },
  {
   "cell_type": "raw",
   "metadata": {},
   "source": [
    "It is clear that women survival rate in Class 1 is about 95-96% as 3 out of 94 women died. It's more clear that irrespective of Class, women are given first priority during Rescue. "
   ]
  },
  {
   "cell_type": "code",
   "execution_count": 90,
   "metadata": {},
   "outputs": [
    {
     "name": "stdout",
     "output_type": "stream",
     "text": [
      "Oldest person survived was of: 80.0\n",
      "Youngest person survived was of: 0.42\n",
      "Average person survived was of: 29.69911764705882\n"
     ]
    }
   ],
   "source": [
    "print('Oldest person survived was of:', titanic_traindata['Age'].max())\n",
    "print('Youngest person survived was of:',titanic_traindata['Age'].min())\n",
    "print('Average person survived was of:',titanic_traindata['Age'].mean())"
   ]
  },
  {
   "cell_type": "code",
   "execution_count": 91,
   "metadata": {},
   "outputs": [
    {
     "data": {
      "image/png": "[encoded data removed]",
      "text/plain": [
       "<matplotlib.figure.Figure at 0xecb7e10>"
      ]
     },
     "metadata": {},
     "output_type": "display_data"
    }
   ],
   "source": [
    "f, ax = plt.subplots(1,2,figsize=(18,8))\n",
    "sns.violinplot('Pclass','Age',hue='Survived',data=titanic_traindata, split=True, ax=ax[0])\n",
    "ax[0].set_title('PClass and Age vs Survived')\n",
    "ax[0].set_yticks(range(0,110,10))\n",
    "sns.violinplot('Sex','Age',hue='Survived',data=titanic_traindata,split=True,ax=ax[1])\n",
    "ax[1].set_title('Sex and Age vs Survived')\n",
    "ax[1].set_yticks(range(0,110,10))\n",
    "plt.show()"
   ]
  },
  {
   "cell_type": "code",
   "execution_count": 92,
   "metadata": {},
   "outputs": [
    {
     "name": "stderr",
     "output_type": "stream",
     "text": [
      "D:\\Users\\452374\\AppData\\Local\\Continuum\\anaconda3\\lib\\site-packages\\ipykernel_launcher.py:4: FutureWarning: currently extract(expand=None) means expand=False (return Index/Series/DataFrame) but in a future version of pandas this will be changed to expand=True (return DataFrame)\n",
      "  after removing the cwd from sys.path.\n"
     ]
    }
   ],
   "source": [
    "# Look at 'Name' feature \n",
    "titanic_traindata['Initial']=0\n",
    "for i in titanic_traindata: \n",
    "    titanic_traindata['Initial']=titanic_traindata.Name.str.extract('([A-Za-z]+)\\.')"
   ]
  },
  {
   "cell_type": "code",
   "execution_count": 93,
   "metadata": {},
   "outputs": [
    {
     "data": {
      "text/html": [
       "<style  type=\"text/css\" >\n",
       "    #T_e277e00a_5756_11e8_a3df_484d7efb0e17row0_col0 {\n",
       "            background-color:  #ffff66;\n",
       "        }    #T_e277e00a_5756_11e8_a3df_484d7efb0e17row0_col1 {\n",
       "            background-color:  #ffff66;\n",
       "        }    #T_e277e00a_5756_11e8_a3df_484d7efb0e17row0_col2 {\n",
       "            background-color:  #008066;\n",
       "        }    #T_e277e00a_5756_11e8_a3df_484d7efb0e17row0_col3 {\n",
       "            background-color:  #ffff66;\n",
       "        }    #T_e277e00a_5756_11e8_a3df_484d7efb0e17row0_col4 {\n",
       "            background-color:  #ffff66;\n",
       "        }    #T_e277e00a_5756_11e8_a3df_484d7efb0e17row0_col5 {\n",
       "            background-color:  #ffff66;\n",
       "        }    #T_e277e00a_5756_11e8_a3df_484d7efb0e17row0_col6 {\n",
       "            background-color:  #008066;\n",
       "        }    #T_e277e00a_5756_11e8_a3df_484d7efb0e17row0_col7 {\n",
       "            background-color:  #ffff66;\n",
       "        }    #T_e277e00a_5756_11e8_a3df_484d7efb0e17row0_col8 {\n",
       "            background-color:  #ffff66;\n",
       "        }    #T_e277e00a_5756_11e8_a3df_484d7efb0e17row0_col9 {\n",
       "            background-color:  #008066;\n",
       "        }    #T_e277e00a_5756_11e8_a3df_484d7efb0e17row0_col10 {\n",
       "            background-color:  #008066;\n",
       "        }    #T_e277e00a_5756_11e8_a3df_484d7efb0e17row0_col11 {\n",
       "            background-color:  #008066;\n",
       "        }    #T_e277e00a_5756_11e8_a3df_484d7efb0e17row0_col12 {\n",
       "            background-color:  #ffff66;\n",
       "        }    #T_e277e00a_5756_11e8_a3df_484d7efb0e17row0_col13 {\n",
       "            background-color:  #008066;\n",
       "        }    #T_e277e00a_5756_11e8_a3df_484d7efb0e17row0_col14 {\n",
       "            background-color:  #008066;\n",
       "        }    #T_e277e00a_5756_11e8_a3df_484d7efb0e17row0_col15 {\n",
       "            background-color:  #ffff66;\n",
       "        }    #T_e277e00a_5756_11e8_a3df_484d7efb0e17row0_col16 {\n",
       "            background-color:  #ffff66;\n",
       "        }    #T_e277e00a_5756_11e8_a3df_484d7efb0e17row1_col0 {\n",
       "            background-color:  #008066;\n",
       "        }    #T_e277e00a_5756_11e8_a3df_484d7efb0e17row1_col1 {\n",
       "            background-color:  #008066;\n",
       "        }    #T_e277e00a_5756_11e8_a3df_484d7efb0e17row1_col2 {\n",
       "            background-color:  #ffff66;\n",
       "        }    #T_e277e00a_5756_11e8_a3df_484d7efb0e17row1_col3 {\n",
       "            background-color:  #008066;\n",
       "        }    #T_e277e00a_5756_11e8_a3df_484d7efb0e17row1_col4 {\n",
       "            background-color:  #008066;\n",
       "        }    #T_e277e00a_5756_11e8_a3df_484d7efb0e17row1_col5 {\n",
       "            background-color:  #008066;\n",
       "        }    #T_e277e00a_5756_11e8_a3df_484d7efb0e17row1_col6 {\n",
       "            background-color:  #ffff66;\n",
       "        }    #T_e277e00a_5756_11e8_a3df_484d7efb0e17row1_col7 {\n",
       "            background-color:  #008066;\n",
       "        }    #T_e277e00a_5756_11e8_a3df_484d7efb0e17row1_col8 {\n",
       "            background-color:  #008066;\n",
       "        }    #T_e277e00a_5756_11e8_a3df_484d7efb0e17row1_col9 {\n",
       "            background-color:  #ffff66;\n",
       "        }    #T_e277e00a_5756_11e8_a3df_484d7efb0e17row1_col10 {\n",
       "            background-color:  #ffff66;\n",
       "        }    #T_e277e00a_5756_11e8_a3df_484d7efb0e17row1_col11 {\n",
       "            background-color:  #ffff66;\n",
       "        }    #T_e277e00a_5756_11e8_a3df_484d7efb0e17row1_col12 {\n",
       "            background-color:  #008066;\n",
       "        }    #T_e277e00a_5756_11e8_a3df_484d7efb0e17row1_col13 {\n",
       "            background-color:  #ffff66;\n",
       "        }    #T_e277e00a_5756_11e8_a3df_484d7efb0e17row1_col14 {\n",
       "            background-color:  #ffff66;\n",
       "        }    #T_e277e00a_5756_11e8_a3df_484d7efb0e17row1_col15 {\n",
       "            background-color:  #008066;\n",
       "        }    #T_e277e00a_5756_11e8_a3df_484d7efb0e17row1_col16 {\n",
       "            background-color:  #008066;\n",
       "        }</style>  \n",
       "<table id=\"T_e277e00a_5756_11e8_a3df_484d7efb0e17\" > \n",
       "<thead>    <tr> \n",
       "        <th class=\"index_name level0\" >Initial</th> \n",
       "        <th class=\"col_heading level0 col0\" >Capt</th> \n",
       "        <th class=\"col_heading level0 col1\" >Col</th> \n",
       "        <th class=\"col_heading level0 col2\" >Countess</th> \n",
       "        <th class=\"col_heading level0 col3\" >Don</th> \n",
       "        <th class=\"col_heading level0 col4\" >Dr</th> \n",
       "        <th class=\"col_heading level0 col5\" >Jonkheer</th> \n",
       "        <th class=\"col_heading level0 col6\" >Lady</th> \n",
       "        <th class=\"col_heading level0 col7\" >Major</th> \n",
       "        <th class=\"col_heading level0 col8\" >Master</th> \n",
       "        <th class=\"col_heading level0 col9\" >Miss</th> \n",
       "        <th class=\"col_heading level0 col10\" >Mlle</th> \n",
       "        <th class=\"col_heading level0 col11\" >Mme</th> \n",
       "        <th class=\"col_heading level0 col12\" >Mr</th> \n",
       "        <th class=\"col_heading level0 col13\" >Mrs</th> \n",
       "        <th class=\"col_heading level0 col14\" >Ms</th> \n",
       "        <th class=\"col_heading level0 col15\" >Rev</th> \n",
       "        <th class=\"col_heading level0 col16\" >Sir</th> \n",
       "    </tr>    <tr> \n",
       "        <th class=\"index_name level0\" >Sex</th> \n",
       "        <th class=\"blank\" ></th> \n",
       "        <th class=\"blank\" ></th> \n",
       "        <th class=\"blank\" ></th> \n",
       "        <th class=\"blank\" ></th> \n",
       "        <th class=\"blank\" ></th> \n",
       "        <th class=\"blank\" ></th> \n",
       "        <th class=\"blank\" ></th> \n",
       "        <th class=\"blank\" ></th> \n",
       "        <th class=\"blank\" ></th> \n",
       "        <th class=\"blank\" ></th> \n",
       "        <th class=\"blank\" ></th> \n",
       "        <th class=\"blank\" ></th> \n",
       "        <th class=\"blank\" ></th> \n",
       "        <th class=\"blank\" ></th> \n",
       "        <th class=\"blank\" ></th> \n",
       "        <th class=\"blank\" ></th> \n",
       "        <th class=\"blank\" ></th> \n",
       "    </tr></thead> \n",
       "<tbody>    <tr> \n",
       "        <th id=\"T_e277e00a_5756_11e8_a3df_484d7efb0e17level0_row0\" class=\"row_heading level0 row0\" >female</th> \n",
       "        <td id=\"T_e277e00a_5756_11e8_a3df_484d7efb0e17row0_col0\" class=\"data row0 col0\" >0</td> \n",
       "        <td id=\"T_e277e00a_5756_11e8_a3df_484d7efb0e17row0_col1\" class=\"data row0 col1\" >0</td> \n",
       "        <td id=\"T_e277e00a_5756_11e8_a3df_484d7efb0e17row0_col2\" class=\"data row0 col2\" >1</td> \n",
       "        <td id=\"T_e277e00a_5756_11e8_a3df_484d7efb0e17row0_col3\" class=\"data row0 col3\" >0</td> \n",
       "        <td id=\"T_e277e00a_5756_11e8_a3df_484d7efb0e17row0_col4\" class=\"data row0 col4\" >1</td> \n",
       "        <td id=\"T_e277e00a_5756_11e8_a3df_484d7efb0e17row0_col5\" class=\"data row0 col5\" >0</td> \n",
       "        <td id=\"T_e277e00a_5756_11e8_a3df_484d7efb0e17row0_col6\" class=\"data row0 col6\" >1</td> \n",
       "        <td id=\"T_e277e00a_5756_11e8_a3df_484d7efb0e17row0_col7\" class=\"data row0 col7\" >0</td> \n",
       "        <td id=\"T_e277e00a_5756_11e8_a3df_484d7efb0e17row0_col8\" class=\"data row0 col8\" >0</td> \n",
       "        <td id=\"T_e277e00a_5756_11e8_a3df_484d7efb0e17row0_col9\" class=\"data row0 col9\" >182</td> \n",
       "        <td id=\"T_e277e00a_5756_11e8_a3df_484d7efb0e17row0_col10\" class=\"data row0 col10\" >2</td> \n",
       "        <td id=\"T_e277e00a_5756_11e8_a3df_484d7efb0e17row0_col11\" class=\"data row0 col11\" >1</td> \n",
       "        <td id=\"T_e277e00a_5756_11e8_a3df_484d7efb0e17row0_col12\" class=\"data row0 col12\" >0</td> \n",
       "        <td id=\"T_e277e00a_5756_11e8_a3df_484d7efb0e17row0_col13\" class=\"data row0 col13\" >125</td> \n",
       "        <td id=\"T_e277e00a_5756_11e8_a3df_484d7efb0e17row0_col14\" class=\"data row0 col14\" >1</td> \n",
       "        <td id=\"T_e277e00a_5756_11e8_a3df_484d7efb0e17row0_col15\" class=\"data row0 col15\" >0</td> \n",
       "        <td id=\"T_e277e00a_5756_11e8_a3df_484d7efb0e17row0_col16\" class=\"data row0 col16\" >0</td> \n",
       "    </tr>    <tr> \n",
       "        <th id=\"T_e277e00a_5756_11e8_a3df_484d7efb0e17level0_row1\" class=\"row_heading level0 row1\" >male</th> \n",
       "        <td id=\"T_e277e00a_5756_11e8_a3df_484d7efb0e17row1_col0\" class=\"data row1 col0\" >1</td> \n",
       "        <td id=\"T_e277e00a_5756_11e8_a3df_484d7efb0e17row1_col1\" class=\"data row1 col1\" >2</td> \n",
       "        <td id=\"T_e277e00a_5756_11e8_a3df_484d7efb0e17row1_col2\" class=\"data row1 col2\" >0</td> \n",
       "        <td id=\"T_e277e00a_5756_11e8_a3df_484d7efb0e17row1_col3\" class=\"data row1 col3\" >1</td> \n",
       "        <td id=\"T_e277e00a_5756_11e8_a3df_484d7efb0e17row1_col4\" class=\"data row1 col4\" >6</td> \n",
       "        <td id=\"T_e277e00a_5756_11e8_a3df_484d7efb0e17row1_col5\" class=\"data row1 col5\" >1</td> \n",
       "        <td id=\"T_e277e00a_5756_11e8_a3df_484d7efb0e17row1_col6\" class=\"data row1 col6\" >0</td> \n",
       "        <td id=\"T_e277e00a_5756_11e8_a3df_484d7efb0e17row1_col7\" class=\"data row1 col7\" >2</td> \n",
       "        <td id=\"T_e277e00a_5756_11e8_a3df_484d7efb0e17row1_col8\" class=\"data row1 col8\" >40</td> \n",
       "        <td id=\"T_e277e00a_5756_11e8_a3df_484d7efb0e17row1_col9\" class=\"data row1 col9\" >0</td> \n",
       "        <td id=\"T_e277e00a_5756_11e8_a3df_484d7efb0e17row1_col10\" class=\"data row1 col10\" >0</td> \n",
       "        <td id=\"T_e277e00a_5756_11e8_a3df_484d7efb0e17row1_col11\" class=\"data row1 col11\" >0</td> \n",
       "        <td id=\"T_e277e00a_5756_11e8_a3df_484d7efb0e17row1_col12\" class=\"data row1 col12\" >517</td> \n",
       "        <td id=\"T_e277e00a_5756_11e8_a3df_484d7efb0e17row1_col13\" class=\"data row1 col13\" >0</td> \n",
       "        <td id=\"T_e277e00a_5756_11e8_a3df_484d7efb0e17row1_col14\" class=\"data row1 col14\" >0</td> \n",
       "        <td id=\"T_e277e00a_5756_11e8_a3df_484d7efb0e17row1_col15\" class=\"data row1 col15\" >6</td> \n",
       "        <td id=\"T_e277e00a_5756_11e8_a3df_484d7efb0e17row1_col16\" class=\"data row1 col16\" >1</td> \n",
       "    </tr></tbody> \n",
       "</table> "
      ],
      "text/plain": [
       "<pandas.io.formats.style.Styler at 0xedd7e10>"
      ]
     },
     "execution_count": 93,
     "metadata": {},
     "output_type": "execute_result"
    }
   ],
   "source": [
    "pd.crosstab(titanic_traindata.Initial,titanic_traindata.Sex).T.style.background_gradient(cmap='summer_r')"
   ]
  },
  {
   "cell_type": "code",
   "execution_count": 94,
   "metadata": {
    "collapsed": true
   },
   "outputs": [],
   "source": [
    "titanic_traindata['Initial'].replace(['Mlle','Mme','Ms','Dr','Major','Lady','Countess',\n",
    "                               'Jonkheer','Col','Rev','Capt','Sir','Don'],['Miss',\n",
    "                                'Miss','Miss','Mr','Mr','Mrs','Mrs','Other','Other','Other','Mr','Mr','Mr'],inplace=True)"
   ]
  },
  {
   "cell_type": "code",
   "execution_count": 95,
   "metadata": {},
   "outputs": [
    {
     "data": {
      "text/plain": [
       "Initial\n",
       "Master     4.574167\n",
       "Miss      21.860000\n",
       "Mr        32.739609\n",
       "Mrs       35.981818\n",
       "Other     45.888889\n",
       "Name: Age, dtype: float64"
      ]
     },
     "execution_count": 95,
     "metadata": {},
     "output_type": "execute_result"
    }
   ],
   "source": [
    "titanic_traindata.groupby('Initial')['Age'].mean()"
   ]
  },
  {
   "cell_type": "code",
   "execution_count": 96,
   "metadata": {
    "collapsed": true
   },
   "outputs": [],
   "source": [
    "# To fill in the empty age \n",
    "titanic_traindata.loc[(titanic_traindata.Age.isnull()) & (titanic_traindata.Initial=='Mr'),'Age']=33\n",
    "titanic_traindata.loc[(titanic_traindata.Age.isnull()) & (titanic_traindata.Initial=='Mrs'),'Age']=36\n",
    "titanic_traindata.loc[(titanic_traindata.Age.isnull()) & (titanic_traindata.Initial=='Master'),'Age']=5\n",
    "titanic_traindata.loc[(titanic_traindata.Age.isnull()) & (titanic_traindata.Initial=='Miss'),'Age']=22\n",
    "titanic_traindata.loc[(titanic_traindata.Age.isnull()) & (titanic_traindata.Initial=='Other'),'Age']=46"
   ]
  },
  {
   "cell_type": "code",
   "execution_count": 98,
   "metadata": {},
   "outputs": [
    {
     "data": {
      "text/plain": [
       "False"
      ]
     },
     "execution_count": 98,
     "metadata": {},
     "output_type": "execute_result"
    }
   ],
   "source": [
    "titanic_traindata.Age.isnull().any()"
   ]
  },
  {
   "cell_type": "code",
   "execution_count": 104,
   "metadata": {},
   "outputs": [
    {
     "data": {
      "image/png": "[encoded data removed]",
      "text/plain": [
       "<matplotlib.figure.Figure at 0xecd1eb8>"
      ]
     },
     "metadata": {},
     "output_type": "display_data"
    }
   ],
   "source": [
    "f,ax=plt.subplots(1,2,figsize=(20,20))\n",
    "titanic_traindata[titanic_traindata['Survived']==0].Age.plot.hist(ax=ax[0],bins=20,edgecolor='black',color='red')\n",
    "x1=list(range(0,85,5))\n",
    "ax[0].set_title('Survived = 0')\n",
    "ax[0].set_xticks(x1)\n",
    "titanic_traindata[titanic_traindata['Survived']==1].Age.plot.hist(ax=ax[1],bins=20,edgecolor='black',color='green')\n",
    "x2=list(range(0,85,5))\n",
    "ax[1].set_title('Survived = 1')\n",
    "ax[1].set_xticks(x2)\n",
    "plt.show()"
   ]
  },
  {
   "cell_type": "raw",
   "metadata": {},
   "source": [
    "1 First rescue priority is given to children and women as persons <5 are saved by large numbers. \n",
    "2 The oldest passanger is 80 \n",
    "3 The most death were between 30-40"
   ]
  },
  {
   "cell_type": "code",
   "execution_count": 105,
   "metadata": {},
   "outputs": [
    {
     "data": {
      "image/png": "[encoded data removed]",
      "text/plain": [
       "<matplotlib.figure.Figure at 0xd06d780>"
      ]
     },
     "metadata": {},
     "output_type": "display_data"
    }
   ],
   "source": [
    "sns.factorplot('Pclass','Survived',col='Initial',data=titanic_traindata)\n",
    "plt.show()"
   ]
  },
  {
   "cell_type": "markdown",
   "metadata": {},
   "source": [
    "### Feature: SibSip"
   ]
  },
  {
   "cell_type": "code",
   "execution_count": 108,
   "metadata": {},
   "outputs": [
    {
     "data": {
      "text/html": [
       "<style  type=\"text/css\" >\n",
       "    #T_a2889936_575b_11e8_a891_484d7efb0e17row0_col0 {\n",
       "            background-color:  #008066;\n",
       "        }    #T_a2889936_575b_11e8_a891_484d7efb0e17row0_col1 {\n",
       "            background-color:  #008066;\n",
       "        }    #T_a2889936_575b_11e8_a891_484d7efb0e17row1_col0 {\n",
       "            background-color:  #c4e266;\n",
       "        }    #T_a2889936_575b_11e8_a891_484d7efb0e17row1_col1 {\n",
       "            background-color:  #77bb66;\n",
       "        }    #T_a2889936_575b_11e8_a891_484d7efb0e17row2_col0 {\n",
       "            background-color:  #f9fc66;\n",
       "        }    #T_a2889936_575b_11e8_a891_484d7efb0e17row2_col1 {\n",
       "            background-color:  #f0f866;\n",
       "        }    #T_a2889936_575b_11e8_a891_484d7efb0e17row3_col0 {\n",
       "            background-color:  #fbfd66;\n",
       "        }    #T_a2889936_575b_11e8_a891_484d7efb0e17row3_col1 {\n",
       "            background-color:  #fbfd66;\n",
       "        }    #T_a2889936_575b_11e8_a891_484d7efb0e17row4_col0 {\n",
       "            background-color:  #f9fc66;\n",
       "        }    #T_a2889936_575b_11e8_a891_484d7efb0e17row4_col1 {\n",
       "            background-color:  #fcfe66;\n",
       "        }    #T_a2889936_575b_11e8_a891_484d7efb0e17row5_col0 {\n",
       "            background-color:  #ffff66;\n",
       "        }    #T_a2889936_575b_11e8_a891_484d7efb0e17row5_col1 {\n",
       "            background-color:  #ffff66;\n",
       "        }    #T_a2889936_575b_11e8_a891_484d7efb0e17row6_col0 {\n",
       "            background-color:  #fefe66;\n",
       "        }    #T_a2889936_575b_11e8_a891_484d7efb0e17row6_col1 {\n",
       "            background-color:  #ffff66;\n",
       "        }</style>  \n",
       "<table id=\"T_a2889936_575b_11e8_a891_484d7efb0e17\" > \n",
       "<thead>    <tr> \n",
       "        <th class=\"index_name level0\" >Survived</th> \n",
       "        <th class=\"col_heading level0 col0\" >0</th> \n",
       "        <th class=\"col_heading level0 col1\" >1</th> \n",
       "    </tr>    <tr> \n",
       "        <th class=\"index_name level0\" >SibSp</th> \n",
       "        <th class=\"blank\" ></th> \n",
       "        <th class=\"blank\" ></th> \n",
       "    </tr></thead> \n",
       "<tbody>    <tr> \n",
       "        <th id=\"T_a2889936_575b_11e8_a891_484d7efb0e17level0_row0\" class=\"row_heading level0 row0\" >0</th> \n",
       "        <td id=\"T_a2889936_575b_11e8_a891_484d7efb0e17row0_col0\" class=\"data row0 col0\" >398</td> \n",
       "        <td id=\"T_a2889936_575b_11e8_a891_484d7efb0e17row0_col1\" class=\"data row0 col1\" >210</td> \n",
       "    </tr>    <tr> \n",
       "        <th id=\"T_a2889936_575b_11e8_a891_484d7efb0e17level0_row1\" class=\"row_heading level0 row1\" >1</th> \n",
       "        <td id=\"T_a2889936_575b_11e8_a891_484d7efb0e17row1_col0\" class=\"data row1 col0\" >97</td> \n",
       "        <td id=\"T_a2889936_575b_11e8_a891_484d7efb0e17row1_col1\" class=\"data row1 col1\" >112</td> \n",
       "    </tr>    <tr> \n",
       "        <th id=\"T_a2889936_575b_11e8_a891_484d7efb0e17level0_row2\" class=\"row_heading level0 row2\" >2</th> \n",
       "        <td id=\"T_a2889936_575b_11e8_a891_484d7efb0e17row2_col0\" class=\"data row2 col0\" >15</td> \n",
       "        <td id=\"T_a2889936_575b_11e8_a891_484d7efb0e17row2_col1\" class=\"data row2 col1\" >13</td> \n",
       "    </tr>    <tr> \n",
       "        <th id=\"T_a2889936_575b_11e8_a891_484d7efb0e17level0_row3\" class=\"row_heading level0 row3\" >3</th> \n",
       "        <td id=\"T_a2889936_575b_11e8_a891_484d7efb0e17row3_col0\" class=\"data row3 col0\" >12</td> \n",
       "        <td id=\"T_a2889936_575b_11e8_a891_484d7efb0e17row3_col1\" class=\"data row3 col1\" >4</td> \n",
       "    </tr>    <tr> \n",
       "        <th id=\"T_a2889936_575b_11e8_a891_484d7efb0e17level0_row4\" class=\"row_heading level0 row4\" >4</th> \n",
       "        <td id=\"T_a2889936_575b_11e8_a891_484d7efb0e17row4_col0\" class=\"data row4 col0\" >15</td> \n",
       "        <td id=\"T_a2889936_575b_11e8_a891_484d7efb0e17row4_col1\" class=\"data row4 col1\" >3</td> \n",
       "    </tr>    <tr> \n",
       "        <th id=\"T_a2889936_575b_11e8_a891_484d7efb0e17level0_row5\" class=\"row_heading level0 row5\" >5</th> \n",
       "        <td id=\"T_a2889936_575b_11e8_a891_484d7efb0e17row5_col0\" class=\"data row5 col0\" >5</td> \n",
       "        <td id=\"T_a2889936_575b_11e8_a891_484d7efb0e17row5_col1\" class=\"data row5 col1\" >0</td> \n",
       "    </tr>    <tr> \n",
       "        <th id=\"T_a2889936_575b_11e8_a891_484d7efb0e17level0_row6\" class=\"row_heading level0 row6\" >8</th> \n",
       "        <td id=\"T_a2889936_575b_11e8_a891_484d7efb0e17row6_col0\" class=\"data row6 col0\" >7</td> \n",
       "        <td id=\"T_a2889936_575b_11e8_a891_484d7efb0e17row6_col1\" class=\"data row6 col1\" >0</td> \n",
       "    </tr></tbody> \n",
       "</table> "
      ],
      "text/plain": [
       "<pandas.io.formats.style.Styler at 0xe51a5f8>"
      ]
     },
     "execution_count": 108,
     "metadata": {},
     "output_type": "execute_result"
    }
   ],
   "source": [
    "pd.crosstab([titanic_traindata.SibSp],titanic_traindata.Survived).style.background_gradient('summer_r')"
   ]
  },
  {
   "cell_type": "code",
   "execution_count": null,
   "metadata": {
    "collapsed": true
   },
   "outputs": [],
   "source": []
  }
 ],
 "metadata": {
  "kernelspec": {
   "display_name": "Python 3",
   "language": "python",
   "name": "python3"
  },
  "language_info": {
   "codemirror_mode": {
    "name": "ipython",
    "version": 3
   },
   "file_extension": ".py",
   "mimetype": "text/x-python",
   "name": "python",
   "nbconvert_exporter": "python",
   "pygments_lexer": "ipython3",
   "version": "3.6.3"
  }
 },
 "nbformat": 4,
 "nbformat_minor": 2
}
